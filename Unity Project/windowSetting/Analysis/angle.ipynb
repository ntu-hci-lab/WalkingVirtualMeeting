{
 "cells": [
  {
   "cell_type": "code",
   "execution_count": 34,
   "metadata": {},
   "outputs": [],
   "source": [
    "import numpy as np\n",
    "import pandas as pd\n",
    "import ndtest\n",
    "import matplotlib.pyplot as plt\n",
    "import matplotlib.pyplot as plt\n",
    "import math"
   ]
  },
  {
   "cell_type": "code",
   "execution_count": 35,
   "metadata": {},
   "outputs": [],
   "source": [
    "all= pd.read_csv('../AllWindowData.csv')\n",
    "data=pd.DataFrame(all)"
   ]
  },
  {
   "cell_type": "code",
   "execution_count": 41,
   "metadata": {},
   "outputs": [],
   "source": [
    "def angle_between_vectors(v, w):\n",
    "    # 计算向量内积\n",
    "    dot_product = np.dot(v, w)\n",
    "    \n",
    "    # 计算向量的叉积\n",
    "    cross_product = np.cross(v, w)\n",
    "    \n",
    "    # 计算向量的模\n",
    "    magnitude_v = np.linalg.norm(v)\n",
    "    magnitude_w = np.linalg.norm(w)\n",
    "    \n",
    "    # 计算夹角的余弦值\n",
    "    cosine_theta = dot_product / (magnitude_v * magnitude_w)\n",
    "    \n",
    "    # 计算夹角的弧度\n",
    "    theta_rad = np.arccos(np.clip(cosine_theta, -1.0, 1.0))\n",
    "    \n",
    "    # 根据叉积的方向判断夹角的正负号\n",
    "    if cross_product > 0:\n",
    "        theta_rad = -theta_rad\n",
    "    \n",
    "    # 将弧度转换为度\n",
    "    theta_deg = np.degrees(theta_rad)\n",
    "    \n",
    "    return theta_deg\n",
    "\n",
    "def angle_between_vectors_3d(v, w):\n",
    "    # print(v, w)\n",
    "    # 右正左負\n",
    "    # 上正下負\n",
    "    theta_horizontal_deg = angle_between_vectors(np.array([-v[0], -v[2]]), np.array([-w[0], -w[2]]))\n",
    "    theta_vertical_deg = angle_between_vectors(np.array([-v[1], -v[2]]), np.array([-w[1], -w[2]]))    \n",
    "    return theta_horizontal_deg, theta_vertical_deg\n",
    "\n",
    "\n",
    "def getAngle(title, data):\n",
    "    allpos = data[['x', 'y', 'z']]\n",
    "    allrot = data[['rx', 'ry', 'rz']]\n",
    "    diff_h = []\n",
    "    diff_v = []\n",
    "    for i in range(len(allpos)):\n",
    "        h, v = angle_between_vectors_3d(np.array([allpos['x'][i], allpos['y'][i], allpos['z'][i]]), \n",
    "                                        np.array([allrot['rx'][i], allrot['ry'][i], allrot['rz'][i]]))\n",
    "        diff_h.append(h)\n",
    "        diff_v.append(v)\n",
    "    # print(diff_h)\n",
    "    # print(diff_v)\n",
    "    print(f'{title}\\t{np.mean(diff_h):.2f}\\t{np.mean(diff_v):.2f}\\tM') \n",
    "    print(f'{title}\\t{np.std(diff_h):.2f}\\t{np.std(diff_v):.2f}\\tSTD') \n"
   ]
  },
  {
   "cell_type": "code",
   "execution_count": 45,
   "metadata": {},
   "outputs": [
    {
     "name": "stdout",
     "output_type": "stream",
     "text": [
      "\t\t\tHorizontal\tVertical\n",
      "All\t\t-3.37\t5.35\tM\n",
      "All\t\t9.90\t11.24\tSTD\n",
      "All Shared Screen\t\t-0.14\t5.55\tM\n",
      "All Shared Screen\t\t6.85\t9.57\tSTD\n",
      "All Speaker's Video\t\t-6.59\t5.14\tM\n",
      "All Speaker's Video\t\t11.33\t12.69\tSTD\n",
      "High-Traffic\t-3.18\t4.86\tM\n",
      "High-Traffic\t9.93\t11.40\tSTD\n",
      "Low-Traffic\t-3.55\t5.83\tM\n",
      "Low-Traffic\t9.87\t11.06\tSTD\n",
      "Listening\t-4.45\t4.53\tM\n"
     ]
    },
    {
     "name": "stdout",
     "output_type": "stream",
     "text": [
      "Listening\t10.70\t12.24\tSTD\n",
      "Discussion\t-2.28\t6.16\tM\n",
      "Discussion\t8.89\t10.08\tSTD\n",
      "Path Anchor\t-3.48\t4.47\tM\n",
      "Path Anchor\t10.66\t11.46\tSTD\n",
      "Head Anchor\t-3.25\t6.22\tM\n",
      "Head Anchor\t9.08\t10.95\tSTD\n",
      "Shared Screen\t-0.14\t5.55\tM\n",
      "Shared Screen\t6.85\t9.57\tSTD\n",
      "Speaker's Video\t-6.59\t5.14\tM\n",
      "Speaker's Video\t11.33\t12.69\tSTD\n"
     ]
    }
   ],
   "source": [
    "print('\\t\\t\\tHorizontal\\tVertical')\n",
    "getAngle('All\\t', data)\n",
    "getAngle('All Shared Screen\\t', data[data['type'] == 0].reset_index())\n",
    "getAngle('All Speaker\\'s Video\\t', data[data['type'] == 1].reset_index())\n",
    "getAngle('High-Traffic', data[data['environment'] == 'high'].reset_index())\n",
    "getAngle('Low-Traffic', data[data['environment'] == 'low'].reset_index())\n",
    "getAngle('Listening', data[data['Meeting type'] == 1].reset_index())\n",
    "getAngle('Discussion', data[data['Meeting type'] == 2].reset_index())\n",
    "getAngle('Path Anchor', data[data['windowMode'] == 0].reset_index())\n",
    "getAngle('Head Anchor', data[data['windowMode'] == 1].reset_index())\n",
    "getAngle('Shared Screen', data[data['type'] == 0].reset_index())\n",
    "getAngle('Speaker\\'s Video', data[data['type'] == 1].reset_index())"
   ]
  },
  {
   "cell_type": "code",
   "execution_count": 30,
   "metadata": {},
   "outputs": [],
   "source": [
    "data=pd.DataFrame({'id':all[\"userId\"],\"case\":all['caseNum'], 'Window Type':all['type'],'Environment': all[ \"environment\"],'Distance':all[\"distance\"],'Window Anchor':all['windowMode'],'Transparency':all['transparency'],'Size':all['visual angle'],'Meeting Format':all['Meeting type'], 'theta':all['theta'], 'phi':all['phi'], 'Offset':all['offset'], 'x': all['x'], 'y': all['y'], 'z': all['z'], 'scale': all['scale']})\n",
    "data['Window Type'] = data['Window Type'].replace({0: 'Shared Screen', 1: 'Speaker\\'s Video'})\n",
    "data['Window Anchor'] = data['Window Anchor'].replace({0: 'Path Anchor', 1: 'Head Anchor'})\n",
    "data['Meeting Format'] = data['Meeting Format'].replace({1: 'Listening', 2: 'Discussion'})\n",
    "data['Environment'] = data['Environment'].replace({'low': 'Low-Traffic', 'high': 'High-Traffic'})\n",
    "data['Transparency']=1-data['Transparency']"
   ]
  },
  {
   "cell_type": "code",
   "execution_count": 31,
   "metadata": {},
   "outputs": [],
   "source": [
    "def get_k2d(data, para):\n",
    "    grouped = data.groupby([para, 'Window Type']).apply(lambda x: x[['id', 'case', para, 'Window Type','theta', 'phi']])\n",
    "    # print(grouped)\n",
    "    for w in grouped['Window Type'].unique():\n",
    "        p = grouped[para].unique()        \n",
    "        a = grouped[(grouped['Window Type']==w) & (grouped[para]==p[0])]\n",
    "        b = grouped[(grouped['Window Type']==w) & (grouped[para]==p[1])]\n",
    "        p_value = ndtest.ks2d2s(np.array(a['theta'].tolist()), np.array(a['phi'].tolist()),\n",
    "                                np.array(b['theta'].tolist()), np.array(b['phi'].tolist()))\n",
    "        print(para,\"\\t\", w,\"\\t\", p_value)\n",
    "        \n",
    "\n",
    "def scatter(data, para, value):\n",
    "    grouped = data.groupby([para, 'Window Type']).apply(lambda x: x[['id', 'case', para, 'Window Type','theta', 'phi']])\n",
    "    p = grouped[para].unique()        \n",
    "    a = grouped[(grouped['Window Type']==value) & (grouped[para]==p[0])]\n",
    "    b = grouped[(grouped['Window Type']==value) & (grouped[para]==p[1])]\n",
    "    # b.sort_values(by='Size', ascending=False)\n",
    "    print(b.sort_values(by='phi', ascending=False))\n",
    "    plt.scatter(a['theta'].tolist(), a['phi'].tolist(), color=\"red\", label=f'{p[0]}')\n",
    "    plt.scatter(b['theta'].tolist(), b['phi'].tolist(), color=\"green\", label=f'{p[1]}')\n",
    "    plt.scatter(1.57, 1.57, marker='*', color='#00264a', s=210, label='Center Eye', ) \n",
    "    plt.plot([36*math.pi/180, 144*math.pi/180], [42*math.pi/180, 42*math.pi/180], color='blue', linestyle='--',label='FOV')\n",
    "    plt.plot([36*math.pi/180, 144*math.pi/180], [138*math.pi/180, 138*math.pi/180], color='blue', linestyle='--')\n",
    "    plt.plot([36*math.pi/180, 36*math.pi/180], [42*math.pi/180, 138*math.pi/180], color='blue', linestyle='--')\n",
    "    plt.plot([144*math.pi/180, 144*math.pi/180], [42*math.pi/180, 138*math.pi/180], color='blue', linestyle='--')\n",
    "    # rect = matplotlib.patches.Rectangle((139, 147), 38, 21, linewidth=1, edgecolor='r', linestyle='dashed', facecolor='none')\n",
    "    # plt.add_patch(rect)\n",
    "    plt.title(f\"Positions of {value}\\nbetween {para}\", fontsize=20)\n",
    "    plt.xlabel(\"Theta\", fontsize=15)\n",
    "    plt.ylabel(\"Phi\", fontsize=15)\n",
    "    plt.xlim(-90,90)\n",
    "    plt.tick_params(left = False, right = False , labelleft = False , labelbottom = False, bottom = False)\n",
    "    plt.ylim(-90,90)\n",
    "    plt.legend(fontsize=10)\n",
    "    plt.show()"
   ]
  },
  {
   "cell_type": "code",
   "execution_count": 32,
   "metadata": {},
   "outputs": [
    {
     "name": "stdout",
     "output_type": "stream",
     "text": [
      "Environment \t Speaker's Video \t 0.27810877945961593\n",
      "Environment \t Shared Screen \t 0.1413661693057938\n",
      "Meeting Format \t Speaker's Video \t 0.37271194062565255\n",
      "Meeting Format \t Shared Screen \t 0.4903540933667076\n",
      "Window Anchor \t Speaker's Video \t 0.3235927634969389\n",
      "Window Anchor \t Shared Screen \t 0.06442729455628673\n"
     ]
    }
   ],
   "source": [
    "get_k2d(data, 'Environment')\n",
    "get_k2d(data, 'Meeting Format')\n",
    "get_k2d(data, 'Window Anchor')"
   ]
  },
  {
   "cell_type": "code",
   "execution_count": 33,
   "metadata": {},
   "outputs": [
    {
     "name": "stdout",
     "output_type": "stream",
     "text": [
      "     id  case   Environment    Window Type      theta        phi\n",
      "221  14     4  High-Traffic  Shared Screen -18.233834  42.297888\n",
      "217  14     3  High-Traffic  Shared Screen  26.374103  33.159912\n",
      "93    6     4  High-Traffic  Shared Screen   6.169116  22.714778\n",
      "95    6     4  High-Traffic  Shared Screen   6.169116  22.714778\n",
      "157  10     4  High-Traffic  Shared Screen   6.254466  21.902734\n",
      "..   ..   ...           ...            ...        ...        ...\n",
      "121   8     3  High-Traffic  Shared Screen  -3.327634 -35.920946\n",
      "79    5     4  High-Traffic  Shared Screen  -0.570403 -36.715517\n",
      "77    5     4  High-Traffic  Shared Screen  -0.570403 -36.715517\n",
      "123   8     3  High-Traffic  Shared Screen  -4.419444 -41.555991\n",
      "125   8     4  High-Traffic  Shared Screen   3.332307 -47.273911\n",
      "\n",
      "[64 rows x 6 columns]\n"
     ]
    },
    {
     "data": {
      "image/png": "[encoded data removed]",
      "text/plain": [
       "<Figure size 432x288 with 1 Axes>"
      ]
     },
     "metadata": {},
     "output_type": "display_data"
    },
    {
     "name": "stdout",
     "output_type": "stream",
     "text": [
      "     id  case   Environment      Window Type      theta        phi\n",
      "156  10     4  High-Traffic  Speaker's Video -47.248729  27.982781\n",
      "216  14     3  High-Traffic  Speaker's Video -10.664701  24.414808\n",
      "188  12     4  High-Traffic  Speaker's Video   6.542734  15.164682\n",
      "92    6     4  High-Traffic  Speaker's Video   5.814914  14.921971\n",
      "94    6     4  High-Traffic  Speaker's Video   5.814914  14.921971\n",
      "..   ..   ...           ...              ...        ...        ...\n",
      "14    1     4  High-Traffic  Speaker's Video  -2.096729 -34.632815\n",
      "10    1     3  High-Traffic  Speaker's Video  -2.096729 -34.632815\n",
      "220  14     4  High-Traffic  Speaker's Video  17.629270 -35.134247\n",
      "30    2     4  High-Traffic  Speaker's Video   5.937640 -35.807585\n",
      "222  14     4  High-Traffic  Speaker's Video -20.934551 -37.965215\n",
      "\n",
      "[64 rows x 6 columns]\n"
     ]
    },
    {
     "data": {
      "image/png": "[encoded data removed]",
      "text/plain": [
       "<Figure size 432x288 with 1 Axes>"
      ]
     },
     "metadata": {},
     "output_type": "display_data"
    }
   ],
   "source": [
    "scatter(data, 'Environment', 'Shared Screen')\n",
    "scatter(data, 'Environment', 'Speaker\\'s Video')\n",
    "# scatter(data, 'Meeting Format', 'Shared Screen')\n",
    "# scatter(data, 'Meeting Format', 'Speaker\\'s Video')\n",
    "# scatter(data, 'Window Anchor', 'Shared Screen')\n",
    "# scatter(data, 'Window Anchor', 'Speaker\\'s Video')"
   ]
  },
  {
   "cell_type": "code",
   "execution_count": null,
   "metadata": {},
   "outputs": [],
   "source": []
  },
  {
   "cell_type": "code",
   "execution_count": null,
   "metadata": {},
   "outputs": [],
   "source": []
  }
 ],
 "metadata": {
  "kernelspec": {
   "display_name": "Python 3",
   "language": "python",
   "name": "python3"
  },
  "language_info": {
   "codemirror_mode": {
    "name": "ipython",
    "version": 3
   },
   "file_extension": ".py",
   "mimetype": "text/x-python",
   "name": "python",
   "nbconvert_exporter": "python",
   "pygments_lexer": "ipython3",
   "version": "3.9.0"
  }
 },
 "nbformat": 4,
 "nbformat_minor": 2
}
