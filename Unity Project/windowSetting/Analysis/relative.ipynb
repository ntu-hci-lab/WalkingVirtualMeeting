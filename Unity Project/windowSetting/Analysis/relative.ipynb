{
 "cells": [
  {
   "cell_type": "code",
   "execution_count": 1,
   "metadata": {},
   "outputs": [],
   "source": [
    "import json\n",
    "import pandas as pd\n",
    "import matplotlib.pyplot as plt\n",
    "import matplotlib.colors\n",
    "\n",
    "\n",
    "\n",
    "import math\n",
    "import numpy as np\n",
    "import seaborn as sns"
   ]
  },
  {
   "cell_type": "code",
   "execution_count": 2,
   "metadata": {},
   "outputs": [],
   "source": [
    "\n",
    "# 从文件中加载 JSON 数据\n",
    "with open('../AllWindowData.json', 'r') as file:\n",
    "    json_data = json.load(file)\n",
    "# 选择 type=1 且 i=2 的元素\n",
    "# for id in range(1,17):\n",
    "#     for caseNum in range(1, 5):\n",
    "#         meetingType = 2 if caseNum%2 == 0 else 1\n",
    "#         environment = int((caseNum-1) / 2)\n",
    "#         for window_mode in range(2):\n",
    "#             selected1 = [element for element in json_data[\"windowDatas\"] if element[\"userId\"] == id and element[\"type\"] == 0 and element[\"caseNum\"] == caseNum and element['windowMode'] == window_mode][0]\n",
    "#             selected2 = [element for element in json_data[\"windowDatas\"] if element[\"userId\"] == id and element[\"type\"] == 1 and element[\"caseNum\"] == caseNum and element['windowMode'] == window_mode][0]"
   ]
  },
  {
   "cell_type": "code",
   "execution_count": 3,
   "metadata": {},
   "outputs": [],
   "source": [
    "# # 距離\n",
    "# dis = []\n",
    "# for id in range(1,17):\n",
    "#     for caseNum in range(1, 5):\n",
    "#         meetingType = 2 if caseNum%2 == 0 else 1\n",
    "#         environment = int((caseNum-1) / 2)\n",
    "#         for window_mode in [\"Path anchor\", \"Head anchor\"]:\n",
    "#             selected1 = data[(data['id'] == id) & (data['type'] == 0) & (data['case'] == caseNum) & (data['Window Mode'] == window_mode)]\n",
    "#             selected2 = data[(data['id'] == id) & (data['type'] == 1) & (data['case'] == caseNum) & (data['Window Mode'] == window_mode)]\n",
    "#             # print(id, caseNum, window_mode)\n",
    "#             dis.append(math.sqrt((selected1[\"theta\"].iloc[0] - selected2[\"theta\"].iloc[0])**2 + (selected1[\"phi\"].iloc[0] - selected2[\"phi\"].iloc[0])**2))\n",
    "#             # print(selected1[\"theta\"].iloc[0])\n",
    "# # print(dis)\n",
    "# # dff = pd.DataFrame({'distance': dis[0]})\n",
    "# sns.kdeplot(dis, bw_adjust=0.5)\n",
    "# plt.title('Kernel Density Estimation Plot')\n",
    "# plt.xlabel('Values')\n",
    "# plt.ylabel('Density')\n",
    "# plt.show()\n",
    "# # plt.title(\"Probability density of distance (Presentation, Window Mode)\")\n",
    "\n",
    "# # sns.kdeplot(dis, bw_adjust=0.5)\n",
    "\n",
    "# # plt.xlabel('Distance')\n",
    "# # plt.ylabel('Probability Density')\n",
    "\n",
    "# plt.show()\n",
    "# # plt.savefig('Results/distance_kde.png')"
   ]
  },
  {
   "cell_type": "code",
   "execution_count": 4,
   "metadata": {},
   "outputs": [],
   "source": [
    "def cartesian_to_spherical(x, y, z):\n",
    "    rho = math.sqrt(x**2 + y**2 + z**2)\n",
    "    theta = math.atan2(y, x) # 經度\n",
    "    phi = math.acos(z / rho) # 緯度\n",
    "    # print(int(theta*100), int(phi*100))\n",
    "    return theta, phi"
   ]
  },
  {
   "cell_type": "code",
   "execution_count": 5,
   "metadata": {},
   "outputs": [],
   "source": [
    "# gradient color settings\n",
    "norm = matplotlib.colors.Normalize(-1,1)\n",
    "colors = [[norm(-1.0), \"#ffffff\"],\n",
    "          # [norm(-0.5), \"#c4daee\"],\n",
    "          [norm( 0.0), \"#5ea6d1\"],\n",
    "          # [norm( 0.5), \"#2272b6\"],\n",
    "          [norm( 1.0), \"#163b73\"]]\n",
    "\n",
    "blues = matplotlib.colors.LinearSegmentedColormap.from_list(\"\", colors)\n",
    "\n",
    "colors = [[norm(-1.0), \"#ffffff\"],\n",
    "        #   [norm(-0.5), \"#c4daee\"],\n",
    "          [norm( 0.0), \"#66bd6f\"],\n",
    "        #   [norm( 0.5), \"#2272b6\"],\n",
    "          [norm( 1.0), \"#00441b\"]]\n",
    "\n",
    "greens = matplotlib.colors.LinearSegmentedColormap.from_list(\"\", colors)"
   ]
  },
  {
   "cell_type": "code",
   "execution_count": 6,
   "metadata": {},
   "outputs": [],
   "source": [
    "### 讀資料\n",
    "heat=np.zeros((314, 314)) # Shared Screen\n",
    "heat2=np.zeros((314, 314)) # Speaker's Video\n",
    "f = open(\"../AllWindowData_normalized.json\")\n",
    "data = json.load(f)\n",
    "theta = []\n",
    "thetamm = []\n",
    "thetamx = []\n",
    "phi = []\n",
    "phimm = []\n",
    "phimx = []\n",
    "for i in data[\"windowDatas\"]:\n",
    "    # find corners\n",
    "    userId=i['userId']\n",
    "    a=i['type']\n",
    "    corners = i[\"corner\"]\n",
    "    case = i['caseNum']\n",
    "    mode = i['windowMode']\n",
    "    pos = i['position']\n",
    "    if a == 0 : # Shared Screen\n",
    "        theta_1, phi_1=cartesian_to_spherical (corners[0]['position'][0], corners[0]['position'][2], corners[0]['position'][1])\n",
    "        theta_2, phi_2=cartesian_to_spherical (corners[1]['position'][0], corners[1]['position'][2], corners[1]['position'][1])\n",
    "        theta_3, phi_3=cartesian_to_spherical (corners[2]['position'][0], corners[2]['position'][2], corners[2]['position'][1])\n",
    "        theta_4, phi_4=cartesian_to_spherical (corners[3]['position'][0], corners[3]['position'][2], corners[3]['position'][1])\n",
    "        phi_min=min(phi_1, phi_2, phi_3, phi_4)\n",
    "        phi_max=max(phi_1, phi_2, phi_3, phi_4)\n",
    "        theta_min=min(theta_1, theta_2, theta_3, theta_4)\n",
    "        theta_max=max(theta_1, theta_2, theta_3, theta_4)\n",
    "        \"\"\"\n",
    "        offset=0.2\n",
    "        if(userId==6 and case==1 and mode==1):\n",
    "            theta_min=theta_min+offset+0.1\n",
    "            theta_max=theta_max+offset+0.1\n",
    "        elif(userId==6 and case==1 and mode==0):\n",
    "            theta_min=theta_min+offset\n",
    "            theta_max=theta_max+offset\n",
    "        elif(userId==2 and case==3 and mode==0):\n",
    "            theta_min=theta_min+offset\n",
    "            theta_max=theta_max+offset\n",
    "        \"\"\"\n",
    "        for i in range(314):\n",
    "            for j in range(314):\n",
    "                if i < theta_max * 100 and i > theta_min * 100 and j < phi_max *100 and j > phi_min*100:\n",
    "                    heat[j][i]+=1\n",
    "    \n",
    "    if a==1 and i['caseNum'] > 2: # Speaker's Video\n",
    "        theta_1, phi_1=cartesian_to_spherical (corners[0]['position'][0], corners[0]['position'][2], corners[0]['position'][1])\n",
    "        theta_2, phi_2=cartesian_to_spherical (corners[1]['position'][0], corners[1]['position'][2], corners[1]['position'][1])\n",
    "        theta_3, phi_3=cartesian_to_spherical (corners[2]['position'][0], corners[2]['position'][2], corners[2]['position'][1])\n",
    "        theta_4, phi_4=cartesian_to_spherical (corners[3]['position'][0], corners[3]['position'][2], corners[3]['position'][1])\n",
    "        phi_min=min(phi_1, phi_2, phi_3, phi_4)\n",
    "        phi_max=max(phi_1, phi_2, phi_3, phi_4)\n",
    "        theta_min=min(theta_1, theta_2, theta_3, theta_4)\n",
    "        theta_max=max(theta_1, theta_2, theta_3, theta_4)\n",
    "        t, p = cartesian_to_spherical(pos[0], pos[2], pos[1])\n",
    "        theta.append(t*100)\n",
    "        phi.append(p*100)\n",
    "        thetamm.append(theta_min)\n",
    "        thetamx.append(theta_max)\n",
    "        phimx.append(phi_max)\n",
    "        phimm.append(phi_min)\n",
    "        # print(theta_max, theta_min)\n",
    "        \"\"\"\n",
    "        offset=0.2\n",
    "        if(userId==6 and case==1 and mode==1):\n",
    "            theta_min=theta_min+offset+0.1\n",
    "            theta_max=theta_max+offset+0.1\n",
    "        elif(userId==6 and case==1 and mode==0):\n",
    "            theta_min=theta_min+offset\n",
    "            theta_max=theta_max+offset\n",
    "        elif(userId==2 and case==3 and mode==0):\n",
    "            theta_min=theta_min+offset\n",
    "            theta_max=theta_max+offset\n",
    "        \"\"\"\n",
    "        for i in range(314):\n",
    "            for j in range(314):\n",
    "                if i < theta_max * 100 and i > theta_min * 100 and j < phi_max *100 and j > phi_min*100:\n",
    "                    heat2[j][i]+=1"
   ]
  },
  {
   "cell_type": "code",
   "execution_count": 10,
   "metadata": {},
   "outputs": [
    {
     "data": {
      "text/plain": [
       "Text(0.5, 1.0, \"The heatmap of Speaker's Video Relative Placement\")"
      ]
     },
     "execution_count": 10,
     "metadata": {},
     "output_type": "execute_result"
    },
    {
     "data": {
      "image/png": "[encoded data removed]",
      "text/plain": [
       "<Figure size 432x288 with 2 Axes>"
      ]
     },
     "metadata": {
      "needs_background": "light"
     },
     "output_type": "display_data"
    }
   ],
   "source": [
    "# for i in range(314):\n",
    "#     for j in range(314):\n",
    "#         if i < sum(thetamx)/len(theta)*100 and i > sum(thetamm)/len(theta)*100 and j < sum(phimx)/len(theta) *100 and j > sum(phimm)/len(theta)*100:\n",
    "#             heat2[j][i]=50\n",
    "\n",
    "\n",
    "green_dashcolor = '#002a11'\n",
    "### 畫 Speaker's Video HeatMap\n",
    "ax = sns.heatmap(heat2,xticklabels=False, yticklabels=False,cmap=greens,cbar_kws={'label':'number of design'})\n",
    "for _, spine in ax.spines.items():\n",
    "    spine.set_visible(True)\n",
    "# 36 144\n",
    "# 42 138\n",
    "# plt.plot([36*math.pi/180*100, 144*math.pi/180*100], [42*math.pi/180*100, 42*math.pi/180*100], color=green_dashcolor, linestyle='--')\n",
    "# plt.plot([36*math.pi/180*100, 144*math.pi/180*100], [138*math.pi/180*100, 138*math.pi/180*100], color=green_dashcolor, linestyle='--')\n",
    "# plt.plot([36*math.pi/180*100, 36*math.pi/180*100], [42*math.pi/180*100, 138*math.pi/180*100], color=green_dashcolor, linestyle='--')\n",
    "# plt.plot([144*math.pi/180*100, 144*math.pi/180*100], [42*math.pi/180*100, 138*math.pi/180*100], color=green_dashcolor, linestyle='--')\n",
    "\n",
    "rect = matplotlib.patches.Rectangle((139, 147), 38, 21, linewidth=1, edgecolor='#00264a', linestyle='dashed', facecolor='none', label='Shared Screen')\n",
    "ax.add_patch(rect)\n",
    "\n",
    "# rect = matplotlib.patches.Rectangle((sum(thetamm)/len(theta)*100, sum(phimm)/len(theta)*100), \n",
    "#                                     sum(thetamx)/len(theta)*100-sum(thetamm)/len(theta)*100, \n",
    "#                                     sum(phimx)/len(theta)*100 - sum(phimm)/len(theta)*100, \n",
    "#                                     linewidth=2, edgecolor='red', linestyle='-', facecolor='none')\n",
    "# ax.add_patch(rect)\n",
    "\n",
    "plt.xlim(207,107) # 100 128 112 96\n",
    "plt.ylim(194,120) # 84 72 63 54\n",
    "# plt.scatter(sum(theta)/len(theta), sum(phi)/len(phi), marker='*', color='#00264a', s=210, label='Center Eye')\n",
    "plt.legend()\n",
    "plt.xlabel(\"Theta\", fontsize=15)\n",
    "plt.ylabel(\"Phi\", fontsize=15)\n",
    "plt.title(\"The heatmap of Speaker's Video Relative Placement\", fontsize=13)"
   ]
  },
  {
   "cell_type": "code",
   "execution_count": 8,
   "metadata": {},
   "outputs": [
    {
     "data": {
      "text/plain": [
       "Text(0.5, 1.0, 'The heatmap of Shared Screen')"
      ]
     },
     "execution_count": 8,
     "metadata": {},
     "output_type": "execute_result"
    },
    {
     "data": {
      "image/png": "[encoded data removed]",
      "text/plain": [
       "<Figure size 432x288 with 2 Axes>"
      ]
     },
     "metadata": {
      "needs_background": "light"
     },
     "output_type": "display_data"
    }
   ],
   "source": [
    "blue_dashcolor = '#0a234a'\n",
    "### 畫全部 HeatMap\n",
    "ax = sns.heatmap(heat,xticklabels=False, yticklabels=False,cmap=blues,cbar_kws={'label':'number of design'})\n",
    "for _, spine in ax.spines.items():\n",
    "    spine.set_visible(True)\n",
    "# 147 21 (148, 168)\n",
    "# 139 38 (140, 177)\n",
    "    \n",
    "# plt.plot([36*math.pi/180*100, 144*math.pi/180*100], [42*math.pi/180*100, 42*math.pi/180*100], color=blue_dashcolor, linestyle='--')\n",
    "# plt.plot([36*math.pi/180*100, 144*math.pi/180*100], [138*math.pi/180*100, 138*math.pi/180*100], color=blue_dashcolor, linestyle='--')\n",
    "# plt.plot([36*math.pi/180*100, 36*math.pi/180*100], [42*math.pi/180*100, 138*math.pi/180*100], color=blue_dashcolor, linestyle='--')\n",
    "# plt.plot([144*math.pi/180*100, 144*math.pi/180*100], [42*math.pi/180*100, 138*math.pi/180*100], color=blue_dashcolor, linestyle='--')\n",
    "\n",
    "rect = matplotlib.patches.Rectangle((139, 147), 38, 21, linewidth=1, edgecolor='r', linestyle='dashed', facecolor='none')\n",
    "ax.add_patch(rect)\n",
    "\n",
    "plt.xlim(314, 0)\n",
    "plt.scatter(157, 157, marker='*', color='#00264a', s=210, label='Center Eye') \n",
    "\n",
    "plt.xlim(207,107)\n",
    "plt.ylim(207,107)\n",
    "#plt.legend()\n",
    "plt.xlabel(\"Theta\", fontsize=15)\n",
    "plt.ylabel(\"Phi\", fontsize=15)\n",
    "plt.title(\"The heatmap of Shared Screen\", fontsize=18)"
   ]
  },
  {
   "cell_type": "code",
   "execution_count": null,
   "metadata": {},
   "outputs": [],
   "source": []
  }
 ],
 "metadata": {
  "kernelspec": {
   "display_name": "Python 3",
   "language": "python",
   "name": "python3"
  },
  "language_info": {
   "codemirror_mode": {
    "name": "ipython",
    "version": 3
   },
   "file_extension": ".py",
   "mimetype": "text/x-python",
   "name": "python",
   "nbconvert_exporter": "python",
   "pygments_lexer": "ipython3",
   "version": "3.9.0"
  }
 },
 "nbformat": 4,
 "nbformat_minor": 2
}
