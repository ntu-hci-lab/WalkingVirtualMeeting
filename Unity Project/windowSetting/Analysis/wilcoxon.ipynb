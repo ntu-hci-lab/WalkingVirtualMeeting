{
 "cells": [
  {
   "cell_type": "code",
   "execution_count": 1,
   "metadata": {},
   "outputs": [],
   "source": [
    "from scipy.stats import wilcoxon\n",
    "from scipy.stats import shapiro\n",
    "import pandas as pd\n",
    "import numpy as np\n",
    "# import seaborn as sns\n",
    "# import matplotlib.pyplot as plt\n",
    "# import json"
   ]
  },
  {
   "cell_type": "code",
   "execution_count": 10,
   "metadata": {},
   "outputs": [],
   "source": [
    "all= pd.read_csv('../AllWindowData.csv')\n",
    "data=pd.DataFrame({'id':all[\"userId\"],\"case\":all['caseNum'], 'Window Type':all['type'],'Environment': all[ \"environment\"],'Distance':all[\"distance\"],'Window Anchor':all['windowMode'],'Transparency':all['transparency'],'Size':all['visual angle'],'Meeting Format':all['Meeting type'], 'Theta':all['theta'], 'Phi':all['phi'], 'Pitch':all['pitch'], 'Row':all['row'], 'Offset':all['offset'], 'x': all['x'], 'y': all['y'], 'z': all['z'], 'scale': all['scale']})\n",
    "data['Window Type'] = data['Window Type'].replace({0: 'Shared Screen', 1: 'Speaker\\'s Video'})\n",
    "data['Window Anchor'] = data['Window Anchor'].replace({0: 'Path Anchor', 1: 'Head Anchor'})\n",
    "data['Meeting Format'] = data['Meeting Format'].replace({1: 'Listening', 2: 'Discussion'})\n",
    "data['Environment'] = data['Environment'].replace({'low': 'Low-Traffic', 'high': 'High-Traffic'})\n",
    "data['Transparency']=1-data['Transparency']"
   ]
  },
  {
   "cell_type": "code",
   "execution_count": 11,
   "metadata": {},
   "outputs": [],
   "source": [
    "def getStar(p_value):\n",
    "    significant = \"\"\n",
    "    if p_value < 0.001:\n",
    "        significant = '***'\n",
    "    elif p_value < 0.01:\n",
    "        significant = '**'\n",
    "    elif p_value < 0.05:\n",
    "        significant = '*'\n",
    "    return significant\n",
    "def w(data, para, value):\n",
    "    print(f'{\"Factor\":11s}\\t{\"Window Type\":15s}\\t\\t{\"Value\":12s}\\t{\"P-value\":7s}\\t{\"sig\":3s}')\n",
    "    grouped = data.groupby(['Window Type', para]).apply(lambda x: x[[para, 'Window Type']+value])\n",
    "    # print(grouped)\n",
    "    p = grouped[para].unique()\n",
    "    # All\n",
    "    a = grouped[(grouped[para]==p[0])]\n",
    "    b = grouped[(grouped[para]==p[1])]\n",
    "    for e in value:\n",
    "        statistic, p_value = wilcoxon(np.array(a[e].tolist()), np.array(b[e].tolist()), alternative='two-sided')\n",
    "        significant = getStar(p_value)\n",
    "        print(f'{para:11s}\\t{\"All\":15s}\\t\\t{e:12s}\\t{p_value:.5f}\\t{significant}')\n",
    "    #\n",
    "    for w in ['Shared Screen', 'Speaker\\'s Video']:                \n",
    "        a = grouped[(grouped['Window Type']==w) & (grouped[para]==p[0])]\n",
    "        b = grouped[(grouped['Window Type']==w) & (grouped[para]==p[1])]\n",
    "        for e in value:\n",
    "            statistic, p_value = wilcoxon(np.array(a[e].tolist()), np.array(b[e].tolist()), alternative='two-sided')\n",
    "            significant = getStar(p_value)\n",
    "            # print(statistic, p[0])\n",
    "            print(f'{para:11s}\\t{w:15s}\\t\\t{e:12s}\\t{p_value:.5f}\\t{significant:3s}')\n",
    "    print(\"\") "
   ]
  },
  {
   "cell_type": "code",
   "execution_count": 13,
   "metadata": {},
   "outputs": [
    {
     "name": "stdout",
     "output_type": "stream",
     "text": [
      "Factor     \tWindow Type    \t\tValue       \tP-value\tsig\n",
      "Environment\tAll            \t\tSize        \t0.03410\t*\n",
      "Environment\tAll            \t\tTheta       \t0.65783\t\n",
      "Environment\tAll            \t\tPhi         \t0.00017\t***\n",
      "Environment\tAll            \t\tTransparency\t0.00000\t***\n",
      "Environment\tShared Screen  \t\tSize        \t0.00513\t** \n",
      "Environment\tShared Screen  \t\tTheta       \t0.21027\t   \n",
      "Environment\tShared Screen  \t\tPhi         \t0.00202\t** \n",
      "Environment\tShared Screen  \t\tTransparency\t0.22065\t   \n",
      "Environment\tSpeaker's Video\t\tSize        \t0.98663\t   \n",
      "Environment\tSpeaker's Video\t\tTheta       \t0.50266\t   \n",
      "Environment\tSpeaker's Video\t\tPhi         \t0.02639\t*  \n",
      "Environment\tSpeaker's Video\t\tTransparency\t0.00000\t***\n",
      "\n",
      "Factor     \tWindow Type    \t\tValue       \tP-value\tsig\n",
      "Meeting Format\tAll            \t\tSize        \t0.51357\t\n",
      "Meeting Format\tAll            \t\tTheta       \t0.04880\t*\n",
      "Meeting Format\tAll            \t\tPhi         \t0.90084\t\n",
      "Meeting Format\tAll            \t\tTransparency\t0.61523\t\n",
      "Meeting Format\tShared Screen  \t\tSize        \t0.00022\t***\n",
      "Meeting Format\tShared Screen  \t\tTheta       \t0.40315\t   \n",
      "Meeting Format\tShared Screen  \t\tPhi         \t0.98311\t   \n",
      "Meeting Format\tShared Screen  \t\tTransparency\t0.04341\t*  \n",
      "Meeting Format\tSpeaker's Video\t\tSize        \t0.00186\t** \n",
      "Meeting Format\tSpeaker's Video\t\tTheta       \t0.09369\t   \n",
      "Meeting Format\tSpeaker's Video\t\tPhi         \t0.91460\t   \n",
      "Meeting Format\tSpeaker's Video\t\tTransparency\t0.00448\t** \n",
      "\n",
      "Factor     \tWindow Type    \t\tValue       \tP-value\tsig\n",
      "Window Anchor\tAll            \t\tSize        \t0.28182\t\n",
      "Window Anchor\tAll            \t\tTheta       \t0.78855\t\n",
      "Window Anchor\tAll            \t\tPhi         \t0.00000\t***\n",
      "Window Anchor\tAll            \t\tTransparency\t0.00508\t**\n",
      "Window Anchor\tShared Screen  \t\tSize        \t0.01972\t*  \n",
      "Window Anchor\tShared Screen  \t\tTheta       \t0.15443\t   \n",
      "Window Anchor\tShared Screen  \t\tPhi         \t0.00027\t***\n",
      "Window Anchor\tShared Screen  \t\tTransparency\t0.19790\t   \n",
      "Window Anchor\tSpeaker's Video\t\tSize        \t0.41461\t   \n",
      "Window Anchor\tSpeaker's Video\t\tTheta       \t0.37183\t   \n",
      "Window Anchor\tSpeaker's Video\t\tPhi         \t0.00299\t** \n",
      "Window Anchor\tSpeaker's Video\t\tTransparency\t0.02089\t*  \n",
      "\n"
     ]
    }
   ],
   "source": [
    "w(data, 'Environment', ['Size', 'Theta', 'Phi', 'Transparency'])\n",
    "w(data, 'Meeting Format', ['Size', 'Theta', 'Phi', 'Transparency'])\n",
    "w(data, 'Window Anchor', ['Size', 'Theta', 'Phi', 'Transparency'])"
   ]
  },
  {
   "cell_type": "code",
   "execution_count": 5,
   "metadata": {},
   "outputs": [],
   "source": [
    "def whp(data, para, value):\n",
    "    print(f'{\"Factor\":11s}\\t{\"Window Anchor\"}\\t{\"Window Type\":15s}\\t\\t{\"Value\":12s}\\t{\"P-value\":7s}\\t{\"sig\":3s}')\n",
    "    grouped = data.groupby(['Window Type', para]).apply(lambda x: x[[para, \"Window Anchor\", 'Window Type']+value])\n",
    "    # print(grouped)\n",
    "    p = grouped[para].unique()\n",
    "    # All\n",
    "    for anchor in ['Path Anchor', \"Head Anchor\"]: \n",
    "        a = grouped[(grouped[para]==p[0]) & (grouped['Window Anchor']==anchor)]\n",
    "        b = grouped[(grouped[para]==p[1]) & (grouped['Window Anchor']==anchor)]\n",
    "        for e in value:\n",
    "            statistic, p_value = wilcoxon(np.array(a[e].tolist()), np.array(b[e].tolist()), alternative='two-sided')\n",
    "            significant = getStar(p_value)\n",
    "            print(f'{para:11s}\\t{anchor:13s}\\t{\"All\":15s}\\t\\t{e:12s}\\t{p_value:.5f}\\t{significant}')\n",
    "    #\n",
    "    for anchor in ['Path Anchor', \"Head Anchor\"]: \n",
    "        for w in ['Shared Screen', 'Speaker\\'s Video']:                       \n",
    "            a = grouped[(grouped['Window Type']==w) & (grouped['Window Anchor']==anchor) & (grouped[para]==p[0])]\n",
    "            b = grouped[(grouped['Window Type']==w) & (grouped['Window Anchor']==anchor) & (grouped[para]==p[1])]\n",
    "            for e in value:\n",
    "                statistic, p_value = wilcoxon(np.array(a[e].tolist()), np.array(b[e].tolist()), alternative='two-sided')\n",
    "                significant = getStar(p_value)\n",
    "                print(f'{para:11s}\\t{anchor:13s}\\t{w:15s}\\t\\t{e:12s}\\t{p_value:.4f}\\t{significant:3s}')\n",
    "    print(\"\") "
   ]
  },
  {
   "cell_type": "code",
   "execution_count": 6,
   "metadata": {},
   "outputs": [
    {
     "name": "stdout",
     "output_type": "stream",
     "text": [
      "Factor     \tWindow Anchor\tWindow Type    \t\tValue       \tP-value\tsig\n",
      "Environment\tPath Anchor  \tAll            \t\tSize        \t0.16553\t\n",
      "Environment\tPath Anchor  \tAll            \t\tDistance    \t0.26377\t\n",
      "Environment\tPath Anchor  \tAll            \t\tTheta       \t0.48808\t\n",
      "Environment\tPath Anchor  \tAll            \t\tPhi         \t0.00160\t**\n",
      "Environment\tPath Anchor  \tAll            \t\tTransparency\t0.00272\t**\n",
      "Environment\tHead Anchor  \tAll            \t\tSize        \t0.08428\t\n",
      "Environment\tHead Anchor  \tAll            \t\tDistance    \t0.35952\t\n",
      "Environment\tHead Anchor  \tAll            \t\tTheta       \t0.14288\t\n",
      "Environment\tHead Anchor  \tAll            \t\tPhi         \t0.04886\t*\n",
      "Environment\tHead Anchor  \tAll            \t\tTransparency\t0.00019\t***\n",
      "Environment\tPath Anchor  \tShared Screen  \t\tSize        \t0.0502\t   \n",
      "Environment\tPath Anchor  \tShared Screen  \t\tDistance    \t0.5387\t   \n",
      "Environment\tPath Anchor  \tShared Screen  \t\tTheta       \t0.7499\t   \n",
      "Environment\tPath Anchor  \tShared Screen  \t\tPhi         \t0.0179\t*  \n",
      "Environment\tPath Anchor  \tShared Screen  \t\tTransparency\t0.6389\t   \n",
      "Environment\tPath Anchor  \tSpeaker's Video\t\tSize        \t0.6653\t   \n",
      "Environment\tPath Anchor  \tSpeaker's Video\t\tDistance    \t0.3505\t   \n",
      "Environment\tPath Anchor  \tSpeaker's Video\t\tTheta       \t0.1648\t   \n",
      "Environment\tPath Anchor  \tSpeaker's Video\t\tPhi         \t0.0382\t*  \n",
      "Environment\tPath Anchor  \tSpeaker's Video\t\tTransparency\t0.0007\t***\n",
      "Environment\tHead Anchor  \tShared Screen  \t\tSize        \t0.0577\t   \n",
      "Environment\tHead Anchor  \tShared Screen  \t\tDistance    \t0.4237\t   \n",
      "Environment\tHead Anchor  \tShared Screen  \t\tTheta       \t0.1183\t   \n",
      "Environment\tHead Anchor  \tShared Screen  \t\tPhi         \t0.0775\t   \n",
      "Environment\tHead Anchor  \tShared Screen  \t\tTransparency\t0.2043\t   \n"
     ]
    },
    {
     "name": "stdout",
     "output_type": "stream",
     "text": [
      "Environment\tHead Anchor  \tSpeaker's Video\t\tSize        \t0.7548\t   \n",
      "Environment\tHead Anchor  \tSpeaker's Video\t\tDistance    \t0.5642\t   \n",
      "Environment\tHead Anchor  \tSpeaker's Video\t\tTheta       \t0.5805\t   \n",
      "Environment\tHead Anchor  \tSpeaker's Video\t\tPhi         \t0.3015\t   \n",
      "Environment\tHead Anchor  \tSpeaker's Video\t\tTransparency\t0.0003\t***\n",
      "\n",
      "Factor     \tWindow Anchor\tWindow Type    \t\tValue       \tP-value\tsig\n",
      "Meeting Format\tPath Anchor  \tAll            \t\tSize        \t0.05181\t\n",
      "Meeting Format\tPath Anchor  \tAll            \t\tDistance    \t0.96624\t\n",
      "Meeting Format\tPath Anchor  \tAll            \t\tTheta       \t0.45245\t\n",
      "Meeting Format\tPath Anchor  \tAll            \t\tPhi         \t0.94095\t\n",
      "Meeting Format\tPath Anchor  \tAll            \t\tTransparency\t0.94937\t\n",
      "Meeting Format\tHead Anchor  \tAll            \t\tSize        \t0.69813\t\n",
      "Meeting Format\tHead Anchor  \tAll            \t\tDistance    \t0.37558\t\n",
      "Meeting Format\tHead Anchor  \tAll            \t\tTheta       \t0.01454\t*\n",
      "Meeting Format\tHead Anchor  \tAll            \t\tPhi         \t0.74768\t\n",
      "Meeting Format\tHead Anchor  \tAll            \t\tTransparency\t0.40774\t\n",
      "Meeting Format\tPath Anchor  \tShared Screen  \t\tSize        \t0.0017\t** \n",
      "Meeting Format\tPath Anchor  \tShared Screen  \t\tDistance    \t0.5034\t   \n",
      "Meeting Format\tPath Anchor  \tShared Screen  \t\tTheta       \t0.7610\t   \n",
      "Meeting Format\tPath Anchor  \tShared Screen  \t\tPhi         \t0.6926\t   \n",
      "Meeting Format\tPath Anchor  \tShared Screen  \t\tTransparency\t0.0736\t   \n",
      "Meeting Format\tPath Anchor  \tSpeaker's Video\t\tSize        \t0.1285\t   \n",
      "Meeting Format\tPath Anchor  \tSpeaker's Video\t\tDistance    \t0.6071\t   \n",
      "Meeting Format\tPath Anchor  \tSpeaker's Video\t\tTheta       \t0.5296\t   \n",
      "Meeting Format\tPath Anchor  \tSpeaker's Video\t\tPhi         \t0.8192\t   \n",
      "Meeting Format\tPath Anchor  \tSpeaker's Video\t\tTransparency\t0.0844\t   \n",
      "Meeting Format\tHead Anchor  \tShared Screen  \t\tSize        \t0.0593\t   \n",
      "Meeting Format\tHead Anchor  \tShared Screen  \t\tDistance    \t0.3758\t   \n",
      "Meeting Format\tHead Anchor  \tShared Screen  \t\tTheta       \t0.2192\t   \n",
      "Meeting Format\tHead Anchor  \tShared Screen  \t\tPhi         \t0.6682\t   \n",
      "Meeting Format\tHead Anchor  \tShared Screen  \t\tTransparency\t0.3078\t   \n",
      "Meeting Format\tHead Anchor  \tSpeaker's Video\t\tSize        \t0.0045\t** \n",
      "Meeting Format\tHead Anchor  \tSpeaker's Video\t\tDistance    \t0.7151\t   \n",
      "Meeting Format\tHead Anchor  \tSpeaker's Video\t\tTheta       \t0.0386\t*  \n",
      "Meeting Format\tHead Anchor  \tSpeaker's Video\t\tPhi         \t0.9584\t   \n",
      "Meeting Format\tHead Anchor  \tSpeaker's Video\t\tTransparency\t0.0218\t*  \n",
      "\n"
     ]
    }
   ],
   "source": [
    "whp(data, 'Environment', ['Size', 'Distance', 'Theta', 'Phi', 'Transparency'])\n",
    "whp(data, 'Meeting Format', ['Size', 'Distance', 'Theta', 'Phi', 'Transparency'])"
   ]
  },
  {
   "cell_type": "code",
   "execution_count": 20,
   "metadata": {},
   "outputs": [],
   "source": [
    "def wwt(data, value):\n",
    "    print(f'{\"Value\":12s}\\t{\"P-value\":7s}\\t\\t{\"sig\":3s}\\t{\"mean1\":7s}\\t{\"mean2\":7s}')\n",
    "    grouped = data.groupby(['Window Type']).apply(lambda x: x[['Window Type']+value])\n",
    "\n",
    "    # All\n",
    "    a = grouped[(grouped['Window Type']=='Shared Screen')]\n",
    "    b = grouped[(grouped['Window Type']=='Speaker\\'s Video')]\n",
    "    for e in value:\n",
    "        statistic, p_value = wilcoxon(np.array(a[e].tolist()), np.array(b[e].tolist()), alternative='two-sided')\n",
    "        significant = getStar(p_value)\n",
    "        print(f'{e:12s}\\t{p_value:.5f}\\t\\t{significant}\\t{a[e].mean():.5f}\\t{b[e].mean():.5f}')\n",
    "    #\n",
    "    # for w in ['Shared Screen', 'Speaker\\'s Video']:                \n",
    "    #     a = grouped[(grouped['Window Type']==w)]\n",
    "    #     b = grouped[(grouped['Window Type']==w)]\n",
    "    #     for e in value:\n",
    "    #         statistic, p_value = wilcoxon(np.array(a[e].tolist()), np.array(b[e].tolist()), alternative='two-sided')\n",
    "    #         significant = getStar(p_value)\n",
    "    #         print(f'{w:15s}\\t\\t{e:12s}\\t{p_value:.5f}\\t{significant:3s}\\t{a[e].mean():.5f}\\t{b[e].mean():.5f}')\n",
    "    print(\"\") "
   ]
  },
  {
   "cell_type": "code",
   "execution_count": 21,
   "metadata": {},
   "outputs": [
    {
     "name": "stdout",
     "output_type": "stream",
     "text": [
      "Value       \tP-value\t\tsig\tmean1  \tmean2  \n",
      "Size        \t0.00000\t\t***\t0.35421\t0.19240\n",
      "Offset      \t0.00005\t\t***\t2.50064\t2.37038\n",
      "Theta       \t0.00001\t\t***\t1.65888\t1.47257\n",
      "Phi         \t0.07924\t\t\t1.85226\t1.81519\n",
      "Transparency\t0.49844\t\t\t0.82223\t0.81770\n",
      "\n"
     ]
    }
   ],
   "source": [
    "wwt(data, ['Size', 'Offset', 'Theta', 'Phi', 'Transparency'])"
   ]
  },
  {
   "cell_type": "code",
   "execution_count": null,
   "metadata": {},
   "outputs": [],
   "source": []
  }
 ],
 "metadata": {
  "kernelspec": {
   "display_name": "Python 3",
   "language": "python",
   "name": "python3"
  },
  "language_info": {
   "codemirror_mode": {
    "name": "ipython",
    "version": 3
   },
   "file_extension": ".py",
   "mimetype": "text/x-python",
   "name": "python",
   "nbconvert_exporter": "python",
   "pygments_lexer": "ipython3",
   "version": "3.9.0"
  }
 },
 "nbformat": 4,
 "nbformat_minor": 2
}
